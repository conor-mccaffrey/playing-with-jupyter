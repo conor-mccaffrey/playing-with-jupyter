{
 "cells": [
  {
   "cell_type": "code",
   "execution_count": 1,
   "id": "1a1297e6-a009-4674-b61e-7bf300fcbbf9",
   "metadata": {},
   "outputs": [],
   "source": [
    "i = 1\n",
    "j = 2"
   ]
  },
  {
   "cell_type": "code",
   "execution_count": 2,
   "id": "132ee9d2-4cfd-43b3-ac65-d99f90b2e240",
   "metadata": {},
   "outputs": [],
   "source": [
    "k = i + j"
   ]
  },
  {
   "cell_type": "code",
   "execution_count": 3,
   "id": "a205acd4-b2a3-4bc9-8516-1839d2aefbbc",
   "metadata": {},
   "outputs": [
    {
     "data": {
      "text/plain": [
       "3"
      ]
     },
     "execution_count": 3,
     "metadata": {},
     "output_type": "execute_result"
    }
   ],
   "source": [
    "k"
   ]
  },
  {
   "cell_type": "markdown",
   "id": "3dd6f8f3-df7d-4877-afa3-b3a732d9f6e5",
   "metadata": {},
   "source": [
    "Markdown (a way of writing formatted text but just as plain text)\n",
    "# I am a Heading\n",
    "- I am a list\n",
    "- I am a list\n",
    "- Still a list\n",
    "\n",
    "![](https://image.flaticon.com/icons/png/512/194/194279.png)\n",
    "\n",
    "**Bold Text**"
   ]
  },
  {
   "cell_type": "code",
   "execution_count": null,
   "id": "ecd028fd-b8a7-4b08-a716-983770737d95",
   "metadata": {},
   "outputs": [],
   "source": []
  }
 ],
 "metadata": {
  "kernelspec": {
   "display_name": "Python 3",
   "language": "python",
   "name": "python3"
  },
  "language_info": {
   "codemirror_mode": {
    "name": "ipython",
    "version": 3
   },
   "file_extension": ".py",
   "mimetype": "text/x-python",
   "name": "python",
   "nbconvert_exporter": "python",
   "pygments_lexer": "ipython3",
   "version": "3.8.8"
  }
 },
 "nbformat": 4,
 "nbformat_minor": 5
}
